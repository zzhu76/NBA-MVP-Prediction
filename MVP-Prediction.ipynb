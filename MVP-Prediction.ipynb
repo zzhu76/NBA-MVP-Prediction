{
 "cells": [
  {
   "cell_type": "markdown",
   "id": "2c84e2ff",
   "metadata": {},
   "source": [
    "# Data Preparation"
   ]
  },
  {
   "cell_type": "code",
   "execution_count": 514,
   "id": "24b971c7",
   "metadata": {
    "scrolled": false
   },
   "outputs": [],
   "source": [
    "#Data Preparation\n",
    "import pandas as pd \n",
    "dfList1 = list() # feature all kept\n",
    "\n",
    "\n",
    "\n",
    "\n",
    "for i in range(1981,2021):\n",
    "    df = pd.read_csv('NBAcsv/{}.csv'.format(i))\n",
    "    header = df.iloc[0] #grab the first row for the header\n",
    "    df = df[1:] #take the data less the header row\n",
    "    df.columns = header\n",
    "    df['season'] = i\n",
    "    dfList1.append(df)\n",
    "df = pd.concat(dfList1, axis=0, ignore_index=False) # feature all kept\n",
    "\n",
    "#remove NA values\n",
    "is_NaN = df.isnull()\n",
    "row_has_NaN = is_NaN.any(axis=1)\n",
    "rows_with_NaN = df[row_has_NaN]\n",
    "df = df.fillna(0)\n",
    "#df.isnull().sum().sum()\n",
    "\n",
    "#drop player name column for training\n",
    "player = df['Player']\n",
    "y=df['Share']\n",
    "x = df.drop(['Pts Won','Pts Max','Tm','Rank','Player','Share','First'],axis = 1)\n",
    "df2 = df[['PTS','AST','TRB','WS','WS/48','BLK','G','STL','season','Share']]\n",
    "x2 = df2.iloc[:,:-1]\n",
    "index = 474\n",
    "X_train,X2_train = x[:index],x2[:index]\n",
    "y_train = y[:index]\n",
    "X_test,X2_test = x[index:],x2[index:]\n",
    "y_test = y[index:]\n",
    "player_test = player[index:]\n"
   ]
  },
  {
   "cell_type": "markdown",
   "id": "a204a572",
   "metadata": {},
   "source": [
    "## Prediction - Linear Regression"
   ]
  },
  {
   "cell_type": "code",
   "execution_count": 515,
   "id": "1cb3fd87",
   "metadata": {},
   "outputs": [],
   "source": [
    "def whoismvp(df2,para,returnlist):\n",
    "    df2 = df2.sort_values(para, ascending=False).drop_duplicates(['season'])\n",
    "    df2 = df2.sort_values('season',ascending = True)\n",
    "    df2 = df2[returnlist]\n",
    "    return df2"
   ]
  },
  {
   "cell_type": "code",
   "execution_count": 516,
   "id": "367486b0",
   "metadata": {
    "scrolled": true
   },
   "outputs": [
    {
     "name": "stderr",
     "output_type": "stream",
     "text": [
      "/var/folders/s1/7jctz8h54js5r1x1zgq79dqr0000gn/T/ipykernel_2812/2296639422.py:16: SettingWithCopyWarning: \n",
      "A value is trying to be set on a copy of a slice from a DataFrame.\n",
      "Try using .loc[row_indexer,col_indexer] = value instead\n",
      "\n",
      "See the caveats in the documentation: https://pandas.pydata.org/pandas-docs/stable/user_guide/indexing.html#returning-a-view-versus-a-copy\n",
      "  df_pred['pred_score'] = y_pred\n",
      "/var/folders/s1/7jctz8h54js5r1x1zgq79dqr0000gn/T/ipykernel_2812/2296639422.py:17: SettingWithCopyWarning: \n",
      "A value is trying to be set on a copy of a slice from a DataFrame.\n",
      "Try using .loc[row_indexer,col_indexer] = value instead\n",
      "\n",
      "See the caveats in the documentation: https://pandas.pydata.org/pandas-docs/stable/user_guide/indexing.html#returning-a-view-versus-a-copy\n",
      "  df_pred['player'] = player_test\n",
      "/var/folders/s1/7jctz8h54js5r1x1zgq79dqr0000gn/T/ipykernel_2812/2296639422.py:18: SettingWithCopyWarning: \n",
      "A value is trying to be set on a copy of a slice from a DataFrame.\n",
      "Try using .loc[row_indexer,col_indexer] = value instead\n",
      "\n",
      "See the caveats in the documentation: https://pandas.pydata.org/pandas-docs/stable/user_guide/indexing.html#returning-a-view-versus-a-copy\n",
      "  df_pred['actual_score'] = y_test\n",
      "/var/folders/s1/7jctz8h54js5r1x1zgq79dqr0000gn/T/ipykernel_2812/2296639422.py:33: SettingWithCopyWarning: \n",
      "A value is trying to be set on a copy of a slice from a DataFrame.\n",
      "Try using .loc[row_indexer,col_indexer] = value instead\n",
      "\n",
      "See the caveats in the documentation: https://pandas.pydata.org/pandas-docs/stable/user_guide/indexing.html#returning-a-view-versus-a-copy\n",
      "  df_pred2['pred_score'] = y_pred\n",
      "/var/folders/s1/7jctz8h54js5r1x1zgq79dqr0000gn/T/ipykernel_2812/2296639422.py:34: SettingWithCopyWarning: \n",
      "A value is trying to be set on a copy of a slice from a DataFrame.\n",
      "Try using .loc[row_indexer,col_indexer] = value instead\n",
      "\n",
      "See the caveats in the documentation: https://pandas.pydata.org/pandas-docs/stable/user_guide/indexing.html#returning-a-view-versus-a-copy\n",
      "  df_pred2['player'] = player_test\n",
      "/var/folders/s1/7jctz8h54js5r1x1zgq79dqr0000gn/T/ipykernel_2812/2296639422.py:35: SettingWithCopyWarning: \n",
      "A value is trying to be set on a copy of a slice from a DataFrame.\n",
      "Try using .loc[row_indexer,col_indexer] = value instead\n",
      "\n",
      "See the caveats in the documentation: https://pandas.pydata.org/pandas-docs/stable/user_guide/indexing.html#returning-a-view-versus-a-copy\n",
      "  df_pred2['actual_score'] = y_test\n"
     ]
    }
   ],
   "source": [
    "from sklearn.model_selection import cross_val_score\n",
    "import sklearn\n",
    "import matplotlib.pyplot as plt\n",
    "from sklearn.linear_model import LinearRegression\n",
    "\n",
    "# Unselected Feature Data\n",
    "mvp=whoismvp(df.iloc[index:,:],'Share','Player')\n",
    "mvp = mvp.to_list()\n",
    "#Linear Regression \n",
    "reg = LinearRegression().fit(X_train, y_train)\n",
    "y_pred = reg.predict(X_test)\n",
    "\n",
    "#score of every player in the test set\n",
    "returnlist = ['season','pred_score','player','actual_score']\n",
    "df_pred = X_test\n",
    "df_pred['pred_score'] = y_pred\n",
    "df_pred['player'] = player_test\n",
    "df_pred['actual_score'] = y_test\n",
    "df_pred = whoismvp(df_pred,'pred_score',returnlist)\n",
    "df_pred['pred_player'] = df_pred['player']\n",
    "df_pred = df_pred.drop('player',axis=1)\n",
    "df_pred['actual_player'] = mvp\n",
    "\n",
    "\n",
    "# Chosen Feature Data\n",
    "#Linear Regression \n",
    "reg = LinearRegression().fit(X2_train, y_train)\n",
    "y_pred = reg.predict(X2_test)\n",
    "\n",
    "#score of every player in the test set\n",
    "returnlist = ['season','pred_score','player','actual_score']\n",
    "df_pred2 = X2_test\n",
    "df_pred2['pred_score'] = y_pred\n",
    "df_pred2['player'] = player_test\n",
    "df_pred2['actual_score'] = y_test\n",
    "df_pred2 = whoismvp(df_pred2,'pred_score',returnlist)\n",
    "df_pred2['pred_player'] = df_pred2['player']\n",
    "df_pred2 = df_pred2.drop('player',axis=1)\n",
    "df_pred2['actual_player'] = mvp"
   ]
  },
  {
   "cell_type": "code",
   "execution_count": 517,
   "id": "02f6b055",
   "metadata": {},
   "outputs": [
    {
     "data": {
      "text/html": [
       "<div>\n",
       "<style scoped>\n",
       "    .dataframe tbody tr th:only-of-type {\n",
       "        vertical-align: middle;\n",
       "    }\n",
       "\n",
       "    .dataframe tbody tr th {\n",
       "        vertical-align: top;\n",
       "    }\n",
       "\n",
       "    .dataframe thead th {\n",
       "        text-align: right;\n",
       "    }\n",
       "</style>\n",
       "<table border=\"1\" class=\"dataframe\">\n",
       "  <thead>\n",
       "    <tr style=\"text-align: right;\">\n",
       "      <th></th>\n",
       "      <th>season</th>\n",
       "      <th>pred_score</th>\n",
       "      <th>actual_score</th>\n",
       "      <th>pred_player</th>\n",
       "      <th>actual_player</th>\n",
       "    </tr>\n",
       "  </thead>\n",
       "  <tbody>\n",
       "    <tr>\n",
       "      <th>5</th>\n",
       "      <td>2008</td>\n",
       "      <td>0.466566</td>\n",
       "      <td>0.159</td>\n",
       "      <td>Chris Paul</td>\n",
       "      <td>Dwyane Wade</td>\n",
       "    </tr>\n",
       "    <tr>\n",
       "      <th>1</th>\n",
       "      <td>2009</td>\n",
       "      <td>0.637088</td>\n",
       "      <td>0.98</td>\n",
       "      <td>LeBron James</td>\n",
       "      <td>LeBron James</td>\n",
       "    </tr>\n",
       "    <tr>\n",
       "      <th>3</th>\n",
       "      <td>2010</td>\n",
       "      <td>0.422445</td>\n",
       "      <td>0.431</td>\n",
       "      <td>LeBron James</td>\n",
       "      <td>Derrick Rose</td>\n",
       "    </tr>\n",
       "    <tr>\n",
       "      <th>1</th>\n",
       "      <td>2011</td>\n",
       "      <td>0.345609</td>\n",
       "      <td>0.888</td>\n",
       "      <td>LeBron James</td>\n",
       "      <td>LeBron James</td>\n",
       "    </tr>\n",
       "    <tr>\n",
       "      <th>1</th>\n",
       "      <td>2012</td>\n",
       "      <td>0.537341</td>\n",
       "      <td>0.998</td>\n",
       "      <td>LeBron James</td>\n",
       "      <td>LeBron James</td>\n",
       "    </tr>\n",
       "    <tr>\n",
       "      <th>1</th>\n",
       "      <td>2013</td>\n",
       "      <td>0.585251</td>\n",
       "      <td>0.986</td>\n",
       "      <td>Kevin Durant</td>\n",
       "      <td>Kevin Durant</td>\n",
       "    </tr>\n",
       "    <tr>\n",
       "      <th>2</th>\n",
       "      <td>2014</td>\n",
       "      <td>0.464972</td>\n",
       "      <td>0.72</td>\n",
       "      <td>James Harden</td>\n",
       "      <td>Stephen Curry</td>\n",
       "    </tr>\n",
       "    <tr>\n",
       "      <th>1</th>\n",
       "      <td>2015</td>\n",
       "      <td>0.487571</td>\n",
       "      <td>1</td>\n",
       "      <td>Stephen Curry</td>\n",
       "      <td>Stephen Curry</td>\n",
       "    </tr>\n",
       "    <tr>\n",
       "      <th>2</th>\n",
       "      <td>2016</td>\n",
       "      <td>0.568589</td>\n",
       "      <td>0.746</td>\n",
       "      <td>James Harden</td>\n",
       "      <td>Russell Westbrook</td>\n",
       "    </tr>\n",
       "    <tr>\n",
       "      <th>1</th>\n",
       "      <td>2017</td>\n",
       "      <td>0.537191</td>\n",
       "      <td>0.955</td>\n",
       "      <td>James Harden</td>\n",
       "      <td>James Harden</td>\n",
       "    </tr>\n",
       "    <tr>\n",
       "      <th>2</th>\n",
       "      <td>2018</td>\n",
       "      <td>0.543324</td>\n",
       "      <td>0.768</td>\n",
       "      <td>James Harden</td>\n",
       "      <td>Giannis Antetokounmpo</td>\n",
       "    </tr>\n",
       "    <tr>\n",
       "      <th>3</th>\n",
       "      <td>2019</td>\n",
       "      <td>0.464257</td>\n",
       "      <td>0.363</td>\n",
       "      <td>James Harden</td>\n",
       "      <td>Giannis Antetokounmpo</td>\n",
       "    </tr>\n",
       "    <tr>\n",
       "      <th>1</th>\n",
       "      <td>2020</td>\n",
       "      <td>0.394383</td>\n",
       "      <td>0.971</td>\n",
       "      <td>Nikola Jokiﾄ</td>\n",
       "      <td>Nikola Jokiﾄ</td>\n",
       "    </tr>\n",
       "  </tbody>\n",
       "</table>\n",
       "</div>"
      ],
      "text/plain": [
       "0  season  pred_score actual_score    pred_player          actual_player\n",
       "5    2008    0.466566        0.159     Chris Paul            Dwyane Wade\n",
       "1    2009    0.637088         0.98   LeBron James           LeBron James\n",
       "3    2010    0.422445        0.431   LeBron James           Derrick Rose\n",
       "1    2011    0.345609        0.888   LeBron James           LeBron James\n",
       "1    2012    0.537341        0.998   LeBron James           LeBron James\n",
       "1    2013    0.585251        0.986   Kevin Durant           Kevin Durant\n",
       "2    2014    0.464972         0.72   James Harden          Stephen Curry\n",
       "1    2015    0.487571            1  Stephen Curry          Stephen Curry\n",
       "2    2016    0.568589        0.746   James Harden      Russell Westbrook\n",
       "1    2017    0.537191        0.955   James Harden           James Harden\n",
       "2    2018    0.543324        0.768   James Harden  Giannis Antetokounmpo\n",
       "3    2019    0.464257        0.363   James Harden  Giannis Antetokounmpo\n",
       "1    2020    0.394383        0.971   Nikola Jokiﾄ           Nikola Jokiﾄ"
      ]
     },
     "execution_count": 517,
     "metadata": {},
     "output_type": "execute_result"
    }
   ],
   "source": [
    "df_pred"
   ]
  },
  {
   "cell_type": "markdown",
   "id": "5490b95e",
   "metadata": {},
   "source": [
    "# Accuracy- Linear Regression"
   ]
  },
  {
   "cell_type": "code",
   "execution_count": 518,
   "id": "8649e0bb",
   "metadata": {},
   "outputs": [
    {
     "name": "stdout",
     "output_type": "stream",
     "text": [
      "Classification Accuracy with Original dataset is 0.5384615384615384\n"
     ]
    }
   ],
   "source": [
    "count = []\n",
    "for i in range(2008,2021):\n",
    "    row = df_pred[df_pred['season']==i]\n",
    "    count.append(row['pred_player']==row['actual_player'])\n",
    "count = list(map(int,count))\n",
    "print('Classification Accuracy with Original dataset is '+str(sum(count)/len(count)))"
   ]
  },
  {
   "cell_type": "code",
   "execution_count": 519,
   "id": "66e5a1f2",
   "metadata": {},
   "outputs": [
    {
     "name": "stdout",
     "output_type": "stream",
     "text": [
      "Classification Accuracy after feature selectionis 0.5384615384615384\n"
     ]
    }
   ],
   "source": [
    "count = []\n",
    "for i in range(2008,2021):\n",
    "    row = df_pred2[df_pred2['season']==i]\n",
    "    count.append(row['pred_player']==row['actual_player'])\n",
    "count = list(map(int,count))\n",
    "print('Classification Accuracy after feature selectionis '+str(sum(count)/len(count)))"
   ]
  },
  {
   "cell_type": "code",
   "execution_count": 520,
   "id": "6c0dace7",
   "metadata": {},
   "outputs": [
    {
     "name": "stdout",
     "output_type": "stream",
     "text": [
      "Regression Accuracy with original data is 0.4391616895019837\n"
     ]
    }
   ],
   "source": [
    "#Regression Accuracy From CV \n",
    "from sklearn.model_selection import cross_val_score\n",
    "score = cross_val_score(reg, x, y, cv=5,scoring='r2').mean()\n",
    "print('Regression Accuracy with original data is '+str(score))"
   ]
  },
  {
   "cell_type": "code",
   "execution_count": 521,
   "id": "dccd33b7",
   "metadata": {},
   "outputs": [
    {
     "name": "stdout",
     "output_type": "stream",
     "text": [
      "Regression Accuracy after feature selection 0.4332792343302697\n"
     ]
    }
   ],
   "source": [
    "#Regression Accuracy From CV \n",
    "from sklearn.model_selection import cross_val_score\n",
    "score = cross_val_score(reg, x2, y, cv=5,scoring='r2').mean()\n",
    "print('Regression Accuracy after feature selection '+str(score))"
   ]
  },
  {
   "cell_type": "code",
   "execution_count": null,
   "id": "40449e83",
   "metadata": {},
   "outputs": [],
   "source": []
  },
  {
   "cell_type": "code",
   "execution_count": null,
   "id": "560d64ac",
   "metadata": {},
   "outputs": [],
   "source": []
  },
  {
   "cell_type": "code",
   "execution_count": null,
   "id": "71d1cff5",
   "metadata": {},
   "outputs": [],
   "source": []
  }
 ],
 "metadata": {
  "kernelspec": {
   "display_name": "Python 3 (ipykernel)",
   "language": "python",
   "name": "python3"
  },
  "language_info": {
   "codemirror_mode": {
    "name": "ipython",
    "version": 3
   },
   "file_extension": ".py",
   "mimetype": "text/x-python",
   "name": "python",
   "nbconvert_exporter": "python",
   "pygments_lexer": "ipython3",
   "version": "3.8.5"
  }
 },
 "nbformat": 4,
 "nbformat_minor": 5
}
